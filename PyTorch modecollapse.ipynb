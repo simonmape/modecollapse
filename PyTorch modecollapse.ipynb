{
 "cells": [
  {
   "cell_type": "markdown",
   "metadata": {},
   "source": [
    "This Jupyter notebook contains the code to perform simulations for the mini project 'Addressing mode collapse in GANs' at C6.5 Theories of Deep Learning at the Mathematical Institute of the University of Oxford. This project was done in fulfillment of the broadnening requirements for the D.Phil."
   ]
  },
  {
   "cell_type": "code",
   "execution_count": 13,
   "metadata": {},
   "outputs": [],
   "source": [
    "import math\n",
    "import torch\n",
    "import torch.nn as nn\n",
    "from sklearn.datasets import make_moons\n",
    "from typing import List\n",
    "from IPython.display import display, clear_output"
   ]
  },
  {
   "cell_type": "markdown",
   "metadata": {},
   "source": [
    "We will use the Scikit-learn Moons toy dataset to show mode collapse in a very simple GAN. For that we define a function that can output random samples from this dataset. "
   ]
  },
  {
   "cell_type": "code",
   "execution_count": 460,
   "metadata": {},
   "outputs": [],
   "source": [
    "def generate_from_moons(batch_size):\n",
    "    Xmoon, ymoon = make_moons(batch_size, noise=0,random_state=np.random.randint(0,1000,1)[0])\n",
    "    labels = [1]*batch_size\n",
    "    data = [Xmoon[i,:] for i in range(Xmoon.shape[0])]\n",
    "    return labels, data"
   ]
  },
  {
   "cell_type": "markdown",
   "metadata": {},
   "source": [
    "In the cell below, we create the generator. "
   ]
  },
  {
   "cell_type": "code",
   "execution_count": 632,
   "metadata": {},
   "outputs": [],
   "source": [
    "class Generator(nn.Module):\n",
    "    def __init__(self):\n",
    "        super(Generator, self).__init__()\n",
    "\n",
    "        self.model = nn.Sequential(\n",
    "            nn.Linear(2,8),\n",
    "            nn.ReLU(inplace=True),\n",
    "            nn.Linear(8,4),\n",
    "            nn.ReLU(inplace=True),\n",
    "            nn.Linear(4, 2),\n",
    "        )\n",
    "    \n",
    "    def forward(self, z):\n",
    "        return self.model(z)"
   ]
  },
  {
   "cell_type": "markdown",
   "metadata": {},
   "source": [
    "Next, we create the discriminator. "
   ]
  },
  {
   "cell_type": "code",
   "execution_count": 573,
   "metadata": {},
   "outputs": [],
   "source": [
    "class Discriminator(nn.Module):\n",
    "    def __init__(self):\n",
    "        super(Discriminator, self).__init__()\n",
    "\n",
    "        self.model = nn.Sequential(\n",
    "            nn.Linear(2, 64),\n",
    "            nn.Tanh(),\n",
    "            nn.Linear(64, 8),\n",
    "            nn.Tanh(),\n",
    "            nn.Linear(8, 1),\n",
    "            nn.Sigmoid()\n",
    "        )\n",
    "\n",
    "    def forward(self, z):\n",
    "        return self.model(z)"
   ]
  },
  {
   "cell_type": "markdown",
   "metadata": {},
   "source": [
    "The following function will allow us to extract easily plottable numpy arrays from a list containing data."
   ]
  },
  {
   "cell_type": "code",
   "execution_count": 441,
   "metadata": {},
   "outputs": [],
   "source": [
    "def make_scatter(data,batch_size):\n",
    "    xShape = len(data)\n",
    "    storeData = np.zeros((xShape,2))\n",
    "    for i in range(xShape):\n",
    "        storeData[i,:] = data[i]    \n",
    "    return storeData"
   ]
  },
  {
   "cell_type": "markdown",
   "metadata": {},
   "source": [
    "The following function is used to initialize the weights of the GAN. "
   ]
  },
  {
   "cell_type": "code",
   "execution_count": 614,
   "metadata": {},
   "outputs": [],
   "source": [
    "def init_weights(m):\n",
    "    if type(m) == nn.Linear:\n",
    "        torch.nn.init.normal_(m.weight)\n",
    "        m.bias.data.fill_(0.01)"
   ]
  },
  {
   "cell_type": "markdown",
   "metadata": {},
   "source": [
    "The following code performs iterations over the different epochs. The training part of the code is based on the tutorial https://towardsdatascience.com/build-a-super-simple-gan-in-pytorch-54ba349920e4. We use Stochastic Gradient Descent and choose a small learning rate."
   ]
  },
  {
   "cell_type": "code",
   "execution_count": 635,
   "metadata": {},
   "outputs": [],
   "source": [
    "def train(max_int: int = 128, batch_size: int = 32, training_steps: int = 200000):\n",
    "    refX =make_scatter(make_moons(1000, noise=0,random_state=np.random.randint(0,1000,1)[0])[0],1000)\n",
    "    input_length = 2\n",
    "    # Models\n",
    "    generator = Generator()\n",
    "    discriminator = Discriminator()\n",
    "    \n",
    "    generator.apply(init_weights)\n",
    "    discriminator.apply(init_weights)\n",
    "    \n",
    "    # Optimizers\n",
    "    generator_optimizer = torch.optim.SGD(generator.parameters(), lr=0.0005)\n",
    "    discriminator_optimizer = torch.optim.SGD(discriminator.parameters(), lr=0.0005)\n",
    "\n",
    "    #Define cross entropy loss\n",
    "    loss = nn.BCELoss()\n",
    "    \n",
    "    #Set seed\n",
    "    np.random.seed(42)\n",
    "    for i in range(training_steps):\n",
    "        generator_optimizer.zero_grad()\n",
    "        \n",
    "        #create latent variables\n",
    "        noise = torch.normal(0, 1, size=(batch_size, input_length)).float()\n",
    "        \n",
    "        #create generator predictions\n",
    "        generated_data = generator(noise)\n",
    "        \n",
    "        #sample from true data\n",
    "        true_labels, true_data = generate_from_moons(batch_size=batch_size)  \n",
    "        true_labels = torch.tensor(true_labels).float()\n",
    "        true_data = torch.tensor(true_data).float()\n",
    "        \n",
    "        #For showing animation in the output of the notebook\n",
    "        if(i%250==0):\n",
    "            pNoise = torch.normal(0, 1, size=(500, input_length)).float() #To visualize\n",
    "            tD = generator(pNoise).data.numpy() #convert into plottable form\n",
    "            tD = make_scatter(tD,500)\n",
    "            clear_output(wait=True) #to refresh output in Jupyter notebook\n",
    "            fileName = 'GAN'+str(i) \n",
    "            plt.scatter(tD[:,0],tD[:,1],c='b',s=5,marker='o',alpha=0.5)\n",
    "            plt.scatter(refX[:,0],refX[:,1],s=0.5,c='r') #output true data\n",
    "            plt.title('Epochs: %d'%i)\n",
    "            plt.savefig(fileName,dpi=750)\n",
    "            plt.show()\n",
    "\n",
    "        # Train generator\n",
    "        generator_discriminator_out = discriminator(generated_data)\n",
    "        true_labels = true_labels.unsqueeze(1)\n",
    "        generator_loss = loss(generator_discriminator_out.float(), true_labels.float())\n",
    "        generator_loss.backward()\n",
    "        generator_optimizer.step()\n",
    "\n",
    "        # Train discriminator \n",
    "        discriminator_optimizer.zero_grad()\n",
    "        true_discriminator_out = discriminator(true_data)\n",
    "        true_discriminator_loss = loss(true_discriminator_out.float(), true_labels.float())\n",
    "        generator_discriminator_out = discriminator(generated_data.detach())\n",
    "        tz = torch.zeros(batch_size).unsqueeze(1)\n",
    "        generator_discriminator_loss = loss(generator_discriminator_out, tz)\n",
    "        discriminator_loss = (true_discriminator_loss + generator_discriminator_loss) / 2\n",
    "        discriminator_loss.backward()\n",
    "        discriminator_optimizer.step()"
   ]
  },
  {
   "cell_type": "markdown",
   "metadata": {},
   "source": [
    "The command below performs the training. If the plot statements in the code are enabled, the cell below will show an animation of the predictions made by the generator. Note that the distribution of the outputs is the same after a while, we keep going to make sure that there is convergence. "
   ]
  },
  {
   "cell_type": "code",
   "execution_count": 636,
   "metadata": {},
   "outputs": [
    {
     "data": {
      "image/png": "[encoded data removed]",
      "text/plain": [
       "<Figure size 432x288 with 1 Axes>"
      ]
     },
     "metadata": {
      "needs_background": "light"
     },
     "output_type": "display_data"
    }
   ],
   "source": [
    "train()"
   ]
  }
 ],
 "metadata": {
  "kernelspec": {
   "display_name": "Python 3",
   "language": "python",
   "name": "python3"
  },
  "language_info": {
   "codemirror_mode": {
    "name": "ipython",
    "version": 3
   },
   "file_extension": ".py",
   "mimetype": "text/x-python",
   "name": "python",
   "nbconvert_exporter": "python",
   "pygments_lexer": "ipython3",
   "version": "3.8.5"
  }
 },
 "nbformat": 4,
 "nbformat_minor": 4
}
